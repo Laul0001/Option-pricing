
  {
   "cell_type": "code",
   "execution_count": null,
   "metadata": {},
   "outputs": [],
   "source": [
    "%matplotlib inline\n",
    "import networkx as nx \n",
    "import numpy as np\n",
    "import matplotlib \n",
    "import matplotlib.pyplot as plt \n",
    "\n",
    "N=3;S0=1\n",
    "\n",
    "r=0.75;a=-0.5;b=2\n",
    "\n",
    "p = (r-a)/(b-a)\n",
    "q = (b-r)/(b-a)\n",
    "\n",
    "def plot_tree(g):\n",
    "    plt.figure(figsize=(20,10))\n",
    "    pos={}\n",
    "    lab={}\n",
    "    \n",
    "    for n in g.nodes():\n",
    "        pos[n]=(n[0],n[1])\n",
    "        lab[n]=float(\"{0:.2f}\".format(g.node[n]['value']))\n",
    "    \n",
    "    elarge=g.edges(data=True)\n",
    "    nx.draw_networkx_edges(g,pos,edgelist=elarge)\n",
    "    nx.draw_networkx_labels(g,pos,lab,font_size=15)\n",
    "    plt.ylim(-N+0.5,N+1.5) \n",
    "    plt.xlim(-0.5,N+0.5)\n",
    "    plt.show()\n",
    "    \n",
    "def graph_stock():\n",
    "    S=nx.Graph()\n",
    "    for k in range(0,N):\n",
    "        for l in range(-k+1,k+3,2):\n",
    "            S.add_edge((k,l),(k+1,l+1))\n",
    "            S.add_edge((k,l),(k+1,l-1))\n",
    "            \n",
    "    for n in S.nodes():        \n",
    "        k=n[0]\n",
    "        l=n[1]-1\n",
    "        S.node[n]['value']=S0*((1.0+b)**((k+l)/2))*((1.0+a)**((k-l)/2))\n",
    "    return S\n",
    "\n",
    "plot_tree(graph_stock())"
   ]
  },
  {
   "cell_type": "code",
   "execution_count": null,
   "metadata": {
    "collapsed": true
   },
   "outputs": [],
   "source": [
    "def European_call_hedge(K):\n",
    "\n",
    "    price = nx.Graph()\n",
    "    hedge_risky = nx.Graph()\n",
    "    hedge_riskless = nx.Graph()\n",
    "    S = graph_stock()\n",
    "\n",
    "    for k in range(0,N):\n",
    "            for l in range(-k+1,k+3,2):\n",
    "                price.add_edge((k,l),(k+1,l+1))\n",
    "                price.add_edge((k,l),(k+1,l-1))\n",
    "                hedge_risky.add_edge((k,l),(k+1,l+1))\n",
    "                hedge_risky.add_edge((k,l),(k+1,l-1))    \n",
    "                hedge_riskless.add_edge((k,l),(k+1,l+1))\n",
    "                hedge_riskless.add_edge((k,l),(k+1,l-1))    \n",
    "    \n",
    "    for l in range(-N+1,N+3,2):\n",
    "        price.node[(N,l)]['value'] = np.maximum(S.node[(N,l)]['value']-K,0)\n",
    "        hedge_risky.node[(N,l)]['value'] = 0\n",
    "        hedge_riskless.node[(N,l)]['value'] = 0\n",
    "        \n",
    "    for l in range(-N+2,N+2,2):\n",
    "        hedge_risky.node[(N-1,l)]['value'] = (price.node[(N,l+1)]['value']-price.node[(N,l-1)]['value'])/(b-a)/S.node[(N-1,l)]['value']\n",
    "        hedge_riskless.node[(N-1,l)]['value'] = ((1+b)*price.node[N,l-1]['value']-(1+a)*price.node[(N,l+1)]['value'])/(b-a)/(1+r)**N\n",
    "\n",
    "    for k in reversed(range(0,N-1)):\n",
    "        for l in range(-k+1,k+3,2):\n",
    "            hedge_risky.node[(k,l)]['value'] = ((1+b)*hedge_risky.node[(k+1,l+1)]['value']-(1+a)*hedge_risky.node[(k+1,l-1)]['value'])/(b-a)+(1+r)**(k+1)*(hedge_riskless.node[(k+1,l+1)]['value']-hedge_riskless.node[(k+1,l-1)]['value'])/(b-a)/(S.node[(k,l)]['value'])\n",
    "            hedge_riskless.node[(k,l)]['value'] = (1+a)*(1+b)*S.node[(k,l)]['value']*(hedge_risky.node[(k+1,l-1)]['value']-hedge_risky.node[(k+1,l+1)]['value'])/(b-a)/(1+r)**(k+1)+((1+b)*hedge_riskless.node[(k+1,l-1)]['value']-(1+a)*hedge_riskless.node[(k+1,l+1)]['value'])/(b-a)\n",
    "    return hedge_risky,hedge_riskless"
   ]
  },
  {
   "cell_type": "code",
   "execution_count": null,
   "metadata": {},
   "outputs": [],
   "source": [
    "K = input(\"Strike K=\")\n",
    "\n",
    "print('Underlying asset prices:')\n",
    "plot_tree(graph_stock())\n",
    "print('Risky hedging strategy:')\n",
    "plot_tree(European_call_hedge(float(K))[0])\n",
    "print('Riskless hedging strategy:')\n",
    "plot_tree(European_call_hedge(float(K))[1])"
   ]
  },
  {
   "cell_type": "code",
   "execution_count": null,
   "metadata": {
    "collapsed": true
   },
   "outputs": [],
   "source": [
    "def Hedge_then_price(K):\n",
    "\n",
    "    hedge_riskless = European_call_hedge(K)[1]\n",
    "    hedge_risky = European_call_hedge(K)[0]\n",
    "    S = graph_stock()\n",
    "    hedge_then_price = nx.Graph()\n",
    "\n",
    "    for k in range(0,N):\n",
    "            for l in range(-k+1,k+3,2):\n",
    "                hedge_then_price.add_edge((k,l),(k+1,l+1))\n",
    "                hedge_then_price.add_edge((k,l),(k+1,l-1))\n",
    "        \n",
    "    for l in range(-N+1,N+3,2):\n",
    "        hedge_risky.node[(N,l)]['value'] = 0\n",
    "        hedge_then_price.node[(N,l)]['value'] = 0\n",
    "\n",
    "    for k in reversed(range(0,N)):\n",
    "        for l in range(-k+1,k+3,2):\n",
    "            hedge_then_price.node[(k,l)]['value'] = hedge_risky.node[(k,l)]['value']*S.node[(k,l)]['value']+hedge_riskless.node[(k,l)]['value']*(1+r)**k\n",
    "    return hedge_then_price"
   ]
  },
  {
   "cell_type": "code",
   "execution_count": null,
   "metadata": {},
   "outputs": [],
   "source": [
    "K = input(\"Strike K=\")\n",
    "\n",
    "print('Underlying asset prices:')\n",
    "plot_tree(graph_stock())\n",
    "print('Risky hedging strategy:')\n",
    "plot_tree(European_call_hedge(float(K))[0])\n",
    "print('Riskless hedging strategy:')\n",
    "plot_tree(European_call_hedge(float(K))[1])\n",
    "print('Hedge then price:')\n",
    "plot_tree(Hedge_then_price(float(K)))"
   ]
  }
 ],
 "metadata": {
  "anaconda-cloud": {},
  "kernelspec": {
   "display_name": "Python 3",
   "language": "python",
   "name": "python3"
  },
  "language_info": {
   "codemirror_mode": {
    "name": "ipython",
    "version": 3
   },
   "file_extension": ".py",
   "mimetype": "text/x-python",
   "name": "python",
   "nbconvert_exporter": "python",
   "pygments_lexer": "ipython3",
   "version": "3.7.5"
  },
  "widgets": {
   "state": {},
   "version": "1.1.2"
  }
 },
 "nbformat": 4,
 "nbformat_minor": 1
}
